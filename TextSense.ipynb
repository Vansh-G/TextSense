{
  "cells": [
    {
      "cell_type": "code",
      "execution_count": null,
      "metadata": {
        "colab": {
          "base_uri": "https://localhost:8080/"
        },
        "id": "WTjYspTdKgF6",
        "outputId": "fe67321e-a4bc-4174-83b8-2cff4a2c4d52"
      },
      "outputs": [],
      "source": [
        "import os\n",
        "import pandas as pd\n",
        "import requests\n",
        "from bs4 import BeautifulSoup\n",
        "\n",
        "# read the input file using pandas\n",
        "df = pd.read_excel(\"Input.xlsx\")\n",
        "# create the directory if it doesn't exist\n",
        "if not os.path.exists(\"scraped_txts\"):\n",
        "    os.mkdir(\"scraped_txts\")\n",
        "# iterate through each row in the dataframe\n",
        "for index, row in df.iterrows():\n",
        "    url = row[\"URL\"]\n",
        "    url_id = row[\"URL_ID\"]\n",
        "    response = requests.get(url)\n",
        "    soup = BeautifulSoup(response.content, \"html.parser\")\n",
        "    \n",
        "    try:\n",
        "      # Extract the title\n",
        "      title = soup.find(\"h1\").get_text().strip()\n",
        "\n",
        "      # Extract the article text\n",
        "      article = soup.find(\"article\")\n",
        "      paragraphs = article.find_all(\"p\")\n",
        "      article_text = \"\\n\".join([p.get_text().strip() for p in paragraphs])\n",
        "\n",
        "      with open(f\"scraped_txts/{url_id}.txt\", \"w\", encoding=\"utf-8\") as file:\n",
        "        file.write(title + \"\\n\\n\" + article_text)\n",
        "\n",
        "    except Exception as error:\n",
        "      print(f\"Error occurred for URL: {url}\\nError message: {str(error)}\")\n",
        "      continue\n",
        "\n",
        "    # print(\"Title:\", title)\n",
        "    # print(\"Article Text:\", article_text)\n",
        "   \n",
        "    "
      ]
    },
    {
      "cell_type": "code",
      "execution_count": null,
      "metadata": {
        "id": "n7fG5kbmUKns"
      },
      "outputs": [],
      "source": [
        "# !zip -r ./scraped_txts.zip ./scraped_txts/"
      ]
    },
    {
      "cell_type": "code",
      "execution_count": null,
      "metadata": {
        "colab": {
          "base_uri": "https://localhost:8080/",
          "height": 17
        },
        "id": "E08v4OJwqpqs",
        "outputId": "b01755be-5ca0-458e-eab8-8f4dc1b2494b"
      },
      "outputs": [
        {
          "data": {
            "application/javascript": "\n    async function download(id, filename, size) {\n      if (!google.colab.kernel.accessAllowed) {\n        return;\n      }\n      const div = document.createElement('div');\n      const label = document.createElement('label');\n      label.textContent = `Downloading \"${filename}\": `;\n      div.appendChild(label);\n      const progress = document.createElement('progress');\n      progress.max = size;\n      div.appendChild(progress);\n      document.body.appendChild(div);\n\n      const buffers = [];\n      let downloaded = 0;\n\n      const channel = await google.colab.kernel.comms.open(id);\n      // Send a message to notify the kernel that we're ready.\n      channel.send({})\n\n      for await (const message of channel.messages) {\n        // Send a message to notify the kernel that we're ready.\n        channel.send({})\n        if (message.buffers) {\n          for (const buffer of message.buffers) {\n            buffers.push(buffer);\n            downloaded += buffer.byteLength;\n            progress.value = downloaded;\n          }\n        }\n      }\n      const blob = new Blob(buffers, {type: 'application/binary'});\n      const a = document.createElement('a');\n      a.href = window.URL.createObjectURL(blob);\n      a.download = filename;\n      div.appendChild(a);\n      a.click();\n      div.remove();\n    }\n  ",
            "text/plain": [
              "<IPython.core.display.Javascript object>"
            ]
          },
          "metadata": {},
          "output_type": "display_data"
        },
        {
          "data": {
            "application/javascript": "download(\"download_1ba873b2-10af-4496-9acd-4a97f682e01f\", \"scraped_txts.zip\", 332800)",
            "text/plain": [
              "<IPython.core.display.Javascript object>"
            ]
          },
          "metadata": {},
          "output_type": "display_data"
        }
      ],
      "source": [
        "# from google.colab import files\n",
        "# files.download('/content/scraped_txts.zip')"
      ]
    },
    {
      "cell_type": "code",
      "execution_count": null,
      "metadata": {
        "id": "3DTbO8fV1rzP"
      },
      "outputs": [],
      "source": [
        "import glob\n",
        "\n",
        "stop_words = set()\n",
        "\n",
        "# Getting a list of all txt files in the directory\n",
        "txt_files = glob.glob(\"/content/StopWords/*.txt\")\n",
        "\n",
        "# Iterate over each txt file and update the set\n",
        "for file_name in txt_files:\n",
        "    with open(file_name, \"r\", encoding=\"cp1252\") as file:\n",
        "        stop_words.update(file.read().splitlines())"
      ]
    },
    {
      "cell_type": "code",
      "execution_count": null,
      "metadata": {
        "id": "GzgRROkk9cU_"
      },
      "outputs": [],
      "source": [
        "import nltk\n",
        "from textblob import TextBlob"
      ]
    },
    {
      "cell_type": "code",
      "execution_count": null,
      "metadata": {
        "colab": {
          "base_uri": "https://localhost:8080/"
        },
        "id": "5itthUIM9vpf",
        "outputId": "356fd84d-6310-4107-c38d-691ce1ae5a67"
      },
      "outputs": [
        {
          "name": "stderr",
          "output_type": "stream",
          "text": [
            "[nltk_data] Downloading package punkt to /root/nltk_data...\n",
            "[nltk_data]   Unzipping tokenizers/punkt.zip.\n"
          ]
        },
        {
          "data": {
            "text/plain": [
              "True"
            ]
          },
          "execution_count": 5,
          "metadata": {},
          "output_type": "execute_result"
        }
      ],
      "source": [
        "nltk.download('punkt')"
      ]
    },
    {
      "cell_type": "code",
      "execution_count": null,
      "metadata": {
        "id": "70S61HVg9irv"
      },
      "outputs": [],
      "source": [
        "from nltk.tokenize import word_tokenize"
      ]
    },
    {
      "cell_type": "code",
      "execution_count": null,
      "metadata": {
        "id": "6temsr-E9F1z"
      },
      "outputs": [],
      "source": [
        "directory = \"scraped_txts\" \n",
        "\n",
        "for filename in os.listdir(directory):\n",
        "    if filename.endswith(\".txt\"):\n",
        "        file_path = os.path.join(directory, filename)\n",
        "        \n",
        "        \n",
        "        with open(file_path, \"r\", encoding=\"utf-8\") as file:\n",
        "            text = file.read()\n",
        "        words = word_tokenize(text)\n",
        "        filtered_words = [word for word in words if word.lower() not in stop_words]\n",
        "        clean_text = \" \".join(filtered_words)\n",
        "\n",
        "        with open(file_path, \"w\", encoding=\"utf-8\") as file:\n",
        "            file.write(clean_text)"
      ]
    },
    {
      "cell_type": "code",
      "execution_count": null,
      "metadata": {
        "colab": {
          "base_uri": "https://localhost:8080/"
        },
        "id": "qGAt99weDcTR",
        "outputId": "06f72de0-20b8-4dd8-d9ce-49169cf23e97"
      },
      "outputs": [
        {
          "name": "stdout",
          "output_type": "stream",
          "text": [
            "Looking in indexes: https://pypi.org/simple, https://us-python.pkg.dev/colab-wheels/public/simple/\n",
            "Collecting syllables\n",
            "  Downloading syllables-1.0.7-py3-none-any.whl (15 kB)\n",
            "Collecting cmudict<2.0.0,>=1.0.11 (from syllables)\n",
            "  Downloading cmudict-1.0.13-py3-none-any.whl (939 kB)\n",
            "\u001b[2K     \u001b[90m━━━━━━━━━━━━━━━━━━━━━━━━━━━━━━━━━━━━━━\u001b[0m \u001b[32m939.3/939.3 kB\u001b[0m \u001b[31m38.5 MB/s\u001b[0m eta \u001b[36m0:00:00\u001b[0m\n",
            "\u001b[?25hCollecting importlib-metadata<6.0.0,>=5.1.0 (from syllables)\n",
            "  Downloading importlib_metadata-5.2.0-py3-none-any.whl (21 kB)\n",
            "Requirement already satisfied: importlib-resources<6.0.0,>=5.10.1 in /usr/local/lib/python3.10/dist-packages (from cmudict<2.0.0,>=1.0.11->syllables) (5.12.0)\n",
            "Requirement already satisfied: zipp>=0.5 in /usr/local/lib/python3.10/dist-packages (from importlib-metadata<6.0.0,>=5.1.0->syllables) (3.15.0)\n",
            "Installing collected packages: importlib-metadata, cmudict, syllables\n",
            "Successfully installed cmudict-1.0.13 importlib-metadata-5.2.0 syllables-1.0.7\n"
          ]
        }
      ],
      "source": [
        "pip install syllables"
      ]
    },
    {
      "cell_type": "code",
      "execution_count": null,
      "metadata": {
        "colab": {
          "base_uri": "https://localhost:8080/"
        },
        "id": "A7ewWFmpDPwN",
        "outputId": "3df228ea-7b6a-4bad-e65f-6d8c072f5800"
      },
      "outputs": [
        {
          "name": "stderr",
          "output_type": "stream",
          "text": [
            "<ipython-input-15-9ee67a5aca6c>:62: FutureWarning: The frame.append method is deprecated and will be removed from pandas in a future version. Use pandas.concat instead.\n",
            "  output_df = output_df.append({\n",
            "<ipython-input-15-9ee67a5aca6c>:62: FutureWarning: The frame.append method is deprecated and will be removed from pandas in a future version. Use pandas.concat instead.\n",
            "  output_df = output_df.append({\n",
            "<ipython-input-15-9ee67a5aca6c>:62: FutureWarning: The frame.append method is deprecated and will be removed from pandas in a future version. Use pandas.concat instead.\n",
            "  output_df = output_df.append({\n",
            "<ipython-input-15-9ee67a5aca6c>:62: FutureWarning: The frame.append method is deprecated and will be removed from pandas in a future version. Use pandas.concat instead.\n",
            "  output_df = output_df.append({\n",
            "<ipython-input-15-9ee67a5aca6c>:62: FutureWarning: The frame.append method is deprecated and will be removed from pandas in a future version. Use pandas.concat instead.\n",
            "  output_df = output_df.append({\n",
            "<ipython-input-15-9ee67a5aca6c>:62: FutureWarning: The frame.append method is deprecated and will be removed from pandas in a future version. Use pandas.concat instead.\n",
            "  output_df = output_df.append({\n",
            "<ipython-input-15-9ee67a5aca6c>:62: FutureWarning: The frame.append method is deprecated and will be removed from pandas in a future version. Use pandas.concat instead.\n",
            "  output_df = output_df.append({\n",
            "<ipython-input-15-9ee67a5aca6c>:62: FutureWarning: The frame.append method is deprecated and will be removed from pandas in a future version. Use pandas.concat instead.\n",
            "  output_df = output_df.append({\n",
            "<ipython-input-15-9ee67a5aca6c>:62: FutureWarning: The frame.append method is deprecated and will be removed from pandas in a future version. Use pandas.concat instead.\n",
            "  output_df = output_df.append({\n",
            "<ipython-input-15-9ee67a5aca6c>:62: FutureWarning: The frame.append method is deprecated and will be removed from pandas in a future version. Use pandas.concat instead.\n",
            "  output_df = output_df.append({\n",
            "<ipython-input-15-9ee67a5aca6c>:62: FutureWarning: The frame.append method is deprecated and will be removed from pandas in a future version. Use pandas.concat instead.\n",
            "  output_df = output_df.append({\n",
            "<ipython-input-15-9ee67a5aca6c>:62: FutureWarning: The frame.append method is deprecated and will be removed from pandas in a future version. Use pandas.concat instead.\n",
            "  output_df = output_df.append({\n",
            "<ipython-input-15-9ee67a5aca6c>:62: FutureWarning: The frame.append method is deprecated and will be removed from pandas in a future version. Use pandas.concat instead.\n",
            "  output_df = output_df.append({\n",
            "<ipython-input-15-9ee67a5aca6c>:62: FutureWarning: The frame.append method is deprecated and will be removed from pandas in a future version. Use pandas.concat instead.\n",
            "  output_df = output_df.append({\n",
            "<ipython-input-15-9ee67a5aca6c>:62: FutureWarning: The frame.append method is deprecated and will be removed from pandas in a future version. Use pandas.concat instead.\n",
            "  output_df = output_df.append({\n",
            "<ipython-input-15-9ee67a5aca6c>:62: FutureWarning: The frame.append method is deprecated and will be removed from pandas in a future version. Use pandas.concat instead.\n",
            "  output_df = output_df.append({\n",
            "<ipython-input-15-9ee67a5aca6c>:62: FutureWarning: The frame.append method is deprecated and will be removed from pandas in a future version. Use pandas.concat instead.\n",
            "  output_df = output_df.append({\n",
            "<ipython-input-15-9ee67a5aca6c>:62: FutureWarning: The frame.append method is deprecated and will be removed from pandas in a future version. Use pandas.concat instead.\n",
            "  output_df = output_df.append({\n",
            "<ipython-input-15-9ee67a5aca6c>:62: FutureWarning: The frame.append method is deprecated and will be removed from pandas in a future version. Use pandas.concat instead.\n",
            "  output_df = output_df.append({\n",
            "<ipython-input-15-9ee67a5aca6c>:62: FutureWarning: The frame.append method is deprecated and will be removed from pandas in a future version. Use pandas.concat instead.\n",
            "  output_df = output_df.append({\n",
            "<ipython-input-15-9ee67a5aca6c>:62: FutureWarning: The frame.append method is deprecated and will be removed from pandas in a future version. Use pandas.concat instead.\n",
            "  output_df = output_df.append({\n",
            "<ipython-input-15-9ee67a5aca6c>:62: FutureWarning: The frame.append method is deprecated and will be removed from pandas in a future version. Use pandas.concat instead.\n",
            "  output_df = output_df.append({\n",
            "<ipython-input-15-9ee67a5aca6c>:62: FutureWarning: The frame.append method is deprecated and will be removed from pandas in a future version. Use pandas.concat instead.\n",
            "  output_df = output_df.append({\n",
            "<ipython-input-15-9ee67a5aca6c>:62: FutureWarning: The frame.append method is deprecated and will be removed from pandas in a future version. Use pandas.concat instead.\n",
            "  output_df = output_df.append({\n",
            "<ipython-input-15-9ee67a5aca6c>:62: FutureWarning: The frame.append method is deprecated and will be removed from pandas in a future version. Use pandas.concat instead.\n",
            "  output_df = output_df.append({\n",
            "<ipython-input-15-9ee67a5aca6c>:62: FutureWarning: The frame.append method is deprecated and will be removed from pandas in a future version. Use pandas.concat instead.\n",
            "  output_df = output_df.append({\n",
            "<ipython-input-15-9ee67a5aca6c>:62: FutureWarning: The frame.append method is deprecated and will be removed from pandas in a future version. Use pandas.concat instead.\n",
            "  output_df = output_df.append({\n",
            "<ipython-input-15-9ee67a5aca6c>:62: FutureWarning: The frame.append method is deprecated and will be removed from pandas in a future version. Use pandas.concat instead.\n",
            "  output_df = output_df.append({\n",
            "<ipython-input-15-9ee67a5aca6c>:62: FutureWarning: The frame.append method is deprecated and will be removed from pandas in a future version. Use pandas.concat instead.\n",
            "  output_df = output_df.append({\n",
            "<ipython-input-15-9ee67a5aca6c>:62: FutureWarning: The frame.append method is deprecated and will be removed from pandas in a future version. Use pandas.concat instead.\n",
            "  output_df = output_df.append({\n",
            "<ipython-input-15-9ee67a5aca6c>:62: FutureWarning: The frame.append method is deprecated and will be removed from pandas in a future version. Use pandas.concat instead.\n",
            "  output_df = output_df.append({\n",
            "<ipython-input-15-9ee67a5aca6c>:62: FutureWarning: The frame.append method is deprecated and will be removed from pandas in a future version. Use pandas.concat instead.\n",
            "  output_df = output_df.append({\n",
            "<ipython-input-15-9ee67a5aca6c>:62: FutureWarning: The frame.append method is deprecated and will be removed from pandas in a future version. Use pandas.concat instead.\n",
            "  output_df = output_df.append({\n",
            "<ipython-input-15-9ee67a5aca6c>:62: FutureWarning: The frame.append method is deprecated and will be removed from pandas in a future version. Use pandas.concat instead.\n",
            "  output_df = output_df.append({\n",
            "<ipython-input-15-9ee67a5aca6c>:62: FutureWarning: The frame.append method is deprecated and will be removed from pandas in a future version. Use pandas.concat instead.\n",
            "  output_df = output_df.append({\n",
            "<ipython-input-15-9ee67a5aca6c>:62: FutureWarning: The frame.append method is deprecated and will be removed from pandas in a future version. Use pandas.concat instead.\n",
            "  output_df = output_df.append({\n",
            "<ipython-input-15-9ee67a5aca6c>:62: FutureWarning: The frame.append method is deprecated and will be removed from pandas in a future version. Use pandas.concat instead.\n",
            "  output_df = output_df.append({\n",
            "<ipython-input-15-9ee67a5aca6c>:62: FutureWarning: The frame.append method is deprecated and will be removed from pandas in a future version. Use pandas.concat instead.\n",
            "  output_df = output_df.append({\n",
            "<ipython-input-15-9ee67a5aca6c>:62: FutureWarning: The frame.append method is deprecated and will be removed from pandas in a future version. Use pandas.concat instead.\n",
            "  output_df = output_df.append({\n",
            "<ipython-input-15-9ee67a5aca6c>:62: FutureWarning: The frame.append method is deprecated and will be removed from pandas in a future version. Use pandas.concat instead.\n",
            "  output_df = output_df.append({\n",
            "<ipython-input-15-9ee67a5aca6c>:62: FutureWarning: The frame.append method is deprecated and will be removed from pandas in a future version. Use pandas.concat instead.\n",
            "  output_df = output_df.append({\n",
            "<ipython-input-15-9ee67a5aca6c>:62: FutureWarning: The frame.append method is deprecated and will be removed from pandas in a future version. Use pandas.concat instead.\n",
            "  output_df = output_df.append({\n",
            "<ipython-input-15-9ee67a5aca6c>:62: FutureWarning: The frame.append method is deprecated and will be removed from pandas in a future version. Use pandas.concat instead.\n",
            "  output_df = output_df.append({\n",
            "<ipython-input-15-9ee67a5aca6c>:62: FutureWarning: The frame.append method is deprecated and will be removed from pandas in a future version. Use pandas.concat instead.\n",
            "  output_df = output_df.append({\n",
            "<ipython-input-15-9ee67a5aca6c>:62: FutureWarning: The frame.append method is deprecated and will be removed from pandas in a future version. Use pandas.concat instead.\n",
            "  output_df = output_df.append({\n",
            "<ipython-input-15-9ee67a5aca6c>:62: FutureWarning: The frame.append method is deprecated and will be removed from pandas in a future version. Use pandas.concat instead.\n",
            "  output_df = output_df.append({\n",
            "<ipython-input-15-9ee67a5aca6c>:62: FutureWarning: The frame.append method is deprecated and will be removed from pandas in a future version. Use pandas.concat instead.\n",
            "  output_df = output_df.append({\n",
            "<ipython-input-15-9ee67a5aca6c>:62: FutureWarning: The frame.append method is deprecated and will be removed from pandas in a future version. Use pandas.concat instead.\n",
            "  output_df = output_df.append({\n",
            "<ipython-input-15-9ee67a5aca6c>:62: FutureWarning: The frame.append method is deprecated and will be removed from pandas in a future version. Use pandas.concat instead.\n",
            "  output_df = output_df.append({\n",
            "<ipython-input-15-9ee67a5aca6c>:62: FutureWarning: The frame.append method is deprecated and will be removed from pandas in a future version. Use pandas.concat instead.\n",
            "  output_df = output_df.append({\n",
            "<ipython-input-15-9ee67a5aca6c>:62: FutureWarning: The frame.append method is deprecated and will be removed from pandas in a future version. Use pandas.concat instead.\n",
            "  output_df = output_df.append({\n",
            "<ipython-input-15-9ee67a5aca6c>:62: FutureWarning: The frame.append method is deprecated and will be removed from pandas in a future version. Use pandas.concat instead.\n",
            "  output_df = output_df.append({\n",
            "<ipython-input-15-9ee67a5aca6c>:62: FutureWarning: The frame.append method is deprecated and will be removed from pandas in a future version. Use pandas.concat instead.\n",
            "  output_df = output_df.append({\n",
            "<ipython-input-15-9ee67a5aca6c>:62: FutureWarning: The frame.append method is deprecated and will be removed from pandas in a future version. Use pandas.concat instead.\n",
            "  output_df = output_df.append({\n",
            "<ipython-input-15-9ee67a5aca6c>:62: FutureWarning: The frame.append method is deprecated and will be removed from pandas in a future version. Use pandas.concat instead.\n",
            "  output_df = output_df.append({\n",
            "<ipython-input-15-9ee67a5aca6c>:62: FutureWarning: The frame.append method is deprecated and will be removed from pandas in a future version. Use pandas.concat instead.\n",
            "  output_df = output_df.append({\n",
            "<ipython-input-15-9ee67a5aca6c>:62: FutureWarning: The frame.append method is deprecated and will be removed from pandas in a future version. Use pandas.concat instead.\n",
            "  output_df = output_df.append({\n",
            "<ipython-input-15-9ee67a5aca6c>:62: FutureWarning: The frame.append method is deprecated and will be removed from pandas in a future version. Use pandas.concat instead.\n",
            "  output_df = output_df.append({\n",
            "<ipython-input-15-9ee67a5aca6c>:62: FutureWarning: The frame.append method is deprecated and will be removed from pandas in a future version. Use pandas.concat instead.\n",
            "  output_df = output_df.append({\n",
            "<ipython-input-15-9ee67a5aca6c>:62: FutureWarning: The frame.append method is deprecated and will be removed from pandas in a future version. Use pandas.concat instead.\n",
            "  output_df = output_df.append({\n",
            "<ipython-input-15-9ee67a5aca6c>:62: FutureWarning: The frame.append method is deprecated and will be removed from pandas in a future version. Use pandas.concat instead.\n",
            "  output_df = output_df.append({\n",
            "<ipython-input-15-9ee67a5aca6c>:62: FutureWarning: The frame.append method is deprecated and will be removed from pandas in a future version. Use pandas.concat instead.\n",
            "  output_df = output_df.append({\n",
            "<ipython-input-15-9ee67a5aca6c>:62: FutureWarning: The frame.append method is deprecated and will be removed from pandas in a future version. Use pandas.concat instead.\n",
            "  output_df = output_df.append({\n",
            "<ipython-input-15-9ee67a5aca6c>:62: FutureWarning: The frame.append method is deprecated and will be removed from pandas in a future version. Use pandas.concat instead.\n",
            "  output_df = output_df.append({\n",
            "<ipython-input-15-9ee67a5aca6c>:62: FutureWarning: The frame.append method is deprecated and will be removed from pandas in a future version. Use pandas.concat instead.\n",
            "  output_df = output_df.append({\n",
            "<ipython-input-15-9ee67a5aca6c>:62: FutureWarning: The frame.append method is deprecated and will be removed from pandas in a future version. Use pandas.concat instead.\n",
            "  output_df = output_df.append({\n",
            "<ipython-input-15-9ee67a5aca6c>:62: FutureWarning: The frame.append method is deprecated and will be removed from pandas in a future version. Use pandas.concat instead.\n",
            "  output_df = output_df.append({\n",
            "<ipython-input-15-9ee67a5aca6c>:62: FutureWarning: The frame.append method is deprecated and will be removed from pandas in a future version. Use pandas.concat instead.\n",
            "  output_df = output_df.append({\n",
            "<ipython-input-15-9ee67a5aca6c>:62: FutureWarning: The frame.append method is deprecated and will be removed from pandas in a future version. Use pandas.concat instead.\n",
            "  output_df = output_df.append({\n",
            "<ipython-input-15-9ee67a5aca6c>:62: FutureWarning: The frame.append method is deprecated and will be removed from pandas in a future version. Use pandas.concat instead.\n",
            "  output_df = output_df.append({\n",
            "<ipython-input-15-9ee67a5aca6c>:62: FutureWarning: The frame.append method is deprecated and will be removed from pandas in a future version. Use pandas.concat instead.\n",
            "  output_df = output_df.append({\n",
            "<ipython-input-15-9ee67a5aca6c>:62: FutureWarning: The frame.append method is deprecated and will be removed from pandas in a future version. Use pandas.concat instead.\n",
            "  output_df = output_df.append({\n",
            "<ipython-input-15-9ee67a5aca6c>:62: FutureWarning: The frame.append method is deprecated and will be removed from pandas in a future version. Use pandas.concat instead.\n",
            "  output_df = output_df.append({\n",
            "<ipython-input-15-9ee67a5aca6c>:62: FutureWarning: The frame.append method is deprecated and will be removed from pandas in a future version. Use pandas.concat instead.\n",
            "  output_df = output_df.append({\n",
            "<ipython-input-15-9ee67a5aca6c>:62: FutureWarning: The frame.append method is deprecated and will be removed from pandas in a future version. Use pandas.concat instead.\n",
            "  output_df = output_df.append({\n",
            "<ipython-input-15-9ee67a5aca6c>:62: FutureWarning: The frame.append method is deprecated and will be removed from pandas in a future version. Use pandas.concat instead.\n",
            "  output_df = output_df.append({\n",
            "<ipython-input-15-9ee67a5aca6c>:62: FutureWarning: The frame.append method is deprecated and will be removed from pandas in a future version. Use pandas.concat instead.\n",
            "  output_df = output_df.append({\n",
            "<ipython-input-15-9ee67a5aca6c>:62: FutureWarning: The frame.append method is deprecated and will be removed from pandas in a future version. Use pandas.concat instead.\n",
            "  output_df = output_df.append({\n",
            "<ipython-input-15-9ee67a5aca6c>:62: FutureWarning: The frame.append method is deprecated and will be removed from pandas in a future version. Use pandas.concat instead.\n",
            "  output_df = output_df.append({\n",
            "<ipython-input-15-9ee67a5aca6c>:62: FutureWarning: The frame.append method is deprecated and will be removed from pandas in a future version. Use pandas.concat instead.\n",
            "  output_df = output_df.append({\n",
            "<ipython-input-15-9ee67a5aca6c>:62: FutureWarning: The frame.append method is deprecated and will be removed from pandas in a future version. Use pandas.concat instead.\n",
            "  output_df = output_df.append({\n",
            "<ipython-input-15-9ee67a5aca6c>:62: FutureWarning: The frame.append method is deprecated and will be removed from pandas in a future version. Use pandas.concat instead.\n",
            "  output_df = output_df.append({\n",
            "<ipython-input-15-9ee67a5aca6c>:62: FutureWarning: The frame.append method is deprecated and will be removed from pandas in a future version. Use pandas.concat instead.\n",
            "  output_df = output_df.append({\n",
            "<ipython-input-15-9ee67a5aca6c>:62: FutureWarning: The frame.append method is deprecated and will be removed from pandas in a future version. Use pandas.concat instead.\n",
            "  output_df = output_df.append({\n",
            "<ipython-input-15-9ee67a5aca6c>:62: FutureWarning: The frame.append method is deprecated and will be removed from pandas in a future version. Use pandas.concat instead.\n",
            "  output_df = output_df.append({\n",
            "<ipython-input-15-9ee67a5aca6c>:62: FutureWarning: The frame.append method is deprecated and will be removed from pandas in a future version. Use pandas.concat instead.\n",
            "  output_df = output_df.append({\n",
            "<ipython-input-15-9ee67a5aca6c>:62: FutureWarning: The frame.append method is deprecated and will be removed from pandas in a future version. Use pandas.concat instead.\n",
            "  output_df = output_df.append({\n",
            "<ipython-input-15-9ee67a5aca6c>:62: FutureWarning: The frame.append method is deprecated and will be removed from pandas in a future version. Use pandas.concat instead.\n",
            "  output_df = output_df.append({\n",
            "<ipython-input-15-9ee67a5aca6c>:62: FutureWarning: The frame.append method is deprecated and will be removed from pandas in a future version. Use pandas.concat instead.\n",
            "  output_df = output_df.append({\n",
            "<ipython-input-15-9ee67a5aca6c>:62: FutureWarning: The frame.append method is deprecated and will be removed from pandas in a future version. Use pandas.concat instead.\n",
            "  output_df = output_df.append({\n",
            "<ipython-input-15-9ee67a5aca6c>:62: FutureWarning: The frame.append method is deprecated and will be removed from pandas in a future version. Use pandas.concat instead.\n",
            "  output_df = output_df.append({\n",
            "<ipython-input-15-9ee67a5aca6c>:62: FutureWarning: The frame.append method is deprecated and will be removed from pandas in a future version. Use pandas.concat instead.\n",
            "  output_df = output_df.append({\n",
            "<ipython-input-15-9ee67a5aca6c>:62: FutureWarning: The frame.append method is deprecated and will be removed from pandas in a future version. Use pandas.concat instead.\n",
            "  output_df = output_df.append({\n",
            "<ipython-input-15-9ee67a5aca6c>:62: FutureWarning: The frame.append method is deprecated and will be removed from pandas in a future version. Use pandas.concat instead.\n",
            "  output_df = output_df.append({\n",
            "<ipython-input-15-9ee67a5aca6c>:62: FutureWarning: The frame.append method is deprecated and will be removed from pandas in a future version. Use pandas.concat instead.\n",
            "  output_df = output_df.append({\n",
            "<ipython-input-15-9ee67a5aca6c>:62: FutureWarning: The frame.append method is deprecated and will be removed from pandas in a future version. Use pandas.concat instead.\n",
            "  output_df = output_df.append({\n",
            "<ipython-input-15-9ee67a5aca6c>:62: FutureWarning: The frame.append method is deprecated and will be removed from pandas in a future version. Use pandas.concat instead.\n",
            "  output_df = output_df.append({\n",
            "<ipython-input-15-9ee67a5aca6c>:62: FutureWarning: The frame.append method is deprecated and will be removed from pandas in a future version. Use pandas.concat instead.\n",
            "  output_df = output_df.append({\n",
            "<ipython-input-15-9ee67a5aca6c>:62: FutureWarning: The frame.append method is deprecated and will be removed from pandas in a future version. Use pandas.concat instead.\n",
            "  output_df = output_df.append({\n",
            "<ipython-input-15-9ee67a5aca6c>:62: FutureWarning: The frame.append method is deprecated and will be removed from pandas in a future version. Use pandas.concat instead.\n",
            "  output_df = output_df.append({\n",
            "<ipython-input-15-9ee67a5aca6c>:62: FutureWarning: The frame.append method is deprecated and will be removed from pandas in a future version. Use pandas.concat instead.\n",
            "  output_df = output_df.append({\n",
            "<ipython-input-15-9ee67a5aca6c>:62: FutureWarning: The frame.append method is deprecated and will be removed from pandas in a future version. Use pandas.concat instead.\n",
            "  output_df = output_df.append({\n",
            "<ipython-input-15-9ee67a5aca6c>:62: FutureWarning: The frame.append method is deprecated and will be removed from pandas in a future version. Use pandas.concat instead.\n",
            "  output_df = output_df.append({\n",
            "<ipython-input-15-9ee67a5aca6c>:62: FutureWarning: The frame.append method is deprecated and will be removed from pandas in a future version. Use pandas.concat instead.\n",
            "  output_df = output_df.append({\n",
            "<ipython-input-15-9ee67a5aca6c>:62: FutureWarning: The frame.append method is deprecated and will be removed from pandas in a future version. Use pandas.concat instead.\n",
            "  output_df = output_df.append({\n",
            "<ipython-input-15-9ee67a5aca6c>:62: FutureWarning: The frame.append method is deprecated and will be removed from pandas in a future version. Use pandas.concat instead.\n",
            "  output_df = output_df.append({\n",
            "<ipython-input-15-9ee67a5aca6c>:62: FutureWarning: The frame.append method is deprecated and will be removed from pandas in a future version. Use pandas.concat instead.\n",
            "  output_df = output_df.append({\n",
            "<ipython-input-15-9ee67a5aca6c>:62: FutureWarning: The frame.append method is deprecated and will be removed from pandas in a future version. Use pandas.concat instead.\n",
            "  output_df = output_df.append({\n",
            "<ipython-input-15-9ee67a5aca6c>:62: FutureWarning: The frame.append method is deprecated and will be removed from pandas in a future version. Use pandas.concat instead.\n",
            "  output_df = output_df.append({\n",
            "<ipython-input-15-9ee67a5aca6c>:62: FutureWarning: The frame.append method is deprecated and will be removed from pandas in a future version. Use pandas.concat instead.\n",
            "  output_df = output_df.append({\n",
            "<ipython-input-15-9ee67a5aca6c>:62: FutureWarning: The frame.append method is deprecated and will be removed from pandas in a future version. Use pandas.concat instead.\n",
            "  output_df = output_df.append({\n"
          ]
        }
      ],
      "source": [
        "import pandas as pd\n",
        "import glob\n",
        "import string\n",
        "import syllables\n",
        "\n",
        "\n",
        "positive_words = set()\n",
        "negative_words = set()\n",
        "with open(\"positive-words.txt\", \"r\", encoding=\"utf-8\") as file:\n",
        "    positive_words.update(file.read().splitlines())\n",
        "\n",
        "with open(\"negative-words.txt\", \"r\", encoding=\"cp1252\") as file:\n",
        "    negative_words.update(file.read().splitlines())\n",
        "\n",
        "\n",
        "txt_files = glob.glob(\"/content/scraped_txts/*.txt\")\n",
        "\n",
        "\n",
        "output_df = pd.DataFrame(columns=[\"URL_ID\", \"URL\", \"POSITIVE SCORE\", \"NEGATIVE SCORE\", \"POLARITY SCORE\",\n",
        "                                  \"SUBJECTIVITY SCORE\", \"AVG SENTENCE LENGTH\", \"PERCENTAGE OF COMPLEX WORDS\",\n",
        "                                  \"FOG INDEX\", \"AVG NUMBER OF WORDS PER SENTENCE\", \"COMPLEX WORD COUNT\",\n",
        "                                  \"WORD COUNT\", \"SYLLABLE PER WORD\", \"PERSONAL PRONOUNS\", \"AVG WORD LENGTH\"])\n",
        "\n",
        "\n",
        "for file_name in txt_files:\n",
        "    with open(file_name, \"r\", encoding=\"utf-8\") as file:\n",
        "        text = file.read()\n",
        "\n",
        "\n",
        "    punctuation = set(string.punctuation)\n",
        "    words = [word for word in text.split() if word not in punctuation]\n",
        "    word_count = len(words)\n",
        "    sentence_count = text.count(\".\") + text.count(\"!\") + text.count(\"?\")\n",
        "    avg_sentence_length = word_count / sentence_count\n",
        "\n",
        "    positive_score = sum(word in positive_words for word in words)\n",
        "    negative_score = sum(word in negative_words for word in words)\n",
        "    polarity_score = (positive_score - negative_score) / ((positive_score + negative_score) + 0.000001)\n",
        "    subjectivity_score = (positive_score + negative_score) / (word_count + 0.000001)\n",
        "\n",
        "    complex_words = [word for word in words if syllables.estimate(word) > 2]\n",
        "    complex_word_count = len(complex_words)\n",
        "    percentage_complex_words = (complex_word_count / word_count) * 100\n",
        "\n",
        "    \n",
        "    sentences = [sentence.strip() for sentence in text.split(\".\") if sentence.strip()]\n",
        "    avg_words_per_sentence = sum(len(sentence.split()) for sentence in sentences) / sentence_count\n",
        "    \n",
        "    syllables_per_word = sum(syllables.estimate(word) for word in words) / word_count\n",
        "\n",
        "   \n",
        "    personal_pronouns = [\"I\", \"me\", \"my\", \"mine\", \"we\", \"us\", \"our\", \"ours\"]\n",
        "    personal_pronoun_count = sum(word.lower() in personal_pronouns for word in words)\n",
        "\n",
        "    word_lengths = [len(word) for word in words]\n",
        "    avg_word_length = sum(word_lengths) / word_count\n",
        "\n",
        "    \n",
        "    output_df = output_df.append({\n",
        "        \"URL_ID\": url_id,  \n",
        "        \"URL\": url,  \n",
        "        \"POSITIVE SCORE\": positive_score,\n",
        "        \"NEGATIVE SCORE\": negative_score,\n",
        "        \"POLARITY SCORE\": polarity_score,\n",
        "        \"SUBJECTIVITY SCORE\": subjectivity_score,\n",
        "        \"AVG SENTENCE LENGTH\": avg_sentence_length,\n",
        "        \"PERCENTAGE OF COMPLEX WORDS\": percentage_complex_words,\n",
        "        \"FOG INDEX\": 0.4 * (avg_words_per_sentence + percentage_complex_words),\n",
        "        \"AVG NUMBER OF WORDS PER SENTENCE\": avg_words_per_sentence,\n",
        "        \"COMPLEX WORD COUNT\": complex_word_count,\n",
        "        \"WORD COUNT\": word_count,\n",
        "        \"SYLLABLE PER WORD\": syllables_per_word,\n",
        "        \"PERSONAL PRONOUNS\": personal_pronoun_count,\n",
        "        \"AVG WORD LENGTH\": avg_word_length\n",
        "    }, ignore_index=True)\n",
        "\n",
        "\n",
        "output_df.to_excel(\"output.xlsx\", index=False)"
      ]
    },
    {
      "cell_type": "code",
      "execution_count": null,
      "metadata": {
        "id": "YLaW2rIZFwGE"
      },
      "outputs": [],
      "source": []
    }
  ],
  "metadata": {
    "colab": {
      "provenance": []
    },
    "kernelspec": {
      "display_name": "Python 3",
      "name": "python3"
    },
    "language_info": {
      "name": "python"
    }
  },
  "nbformat": 4,
  "nbformat_minor": 0
}
